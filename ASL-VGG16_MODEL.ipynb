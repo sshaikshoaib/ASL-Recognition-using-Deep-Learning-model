{
  "nbformat": 4,
  "nbformat_minor": 0,
  "metadata": {
    "colab": {
      "provenance": [],
      "gpuType": "T4"
    },
    "kernelspec": {
      "name": "python3",
      "display_name": "Python 3"
    },
    "language_info": {
      "name": "python"
    },
    "accelerator": "GPU"
  },
  "cells": [
    {
      "cell_type": "code",
      "source": [
        "!mkdir ~/.kaggle\n",
        "! cp kaggle.json ~/.kaggle/\n",
        "! chmod 600 ~/.kaggle/kaggle.json"
      ],
      "metadata": {
        "id": "l7B0JYQTjjqd",
        "colab": {
          "base_uri": "https://localhost:8080/"
        },
        "outputId": "ffbd910a-07d4-45ba-e188-7dcce6f11a35"
      },
      "execution_count": null,
      "outputs": [
        {
          "output_type": "stream",
          "name": "stdout",
          "text": [
            "mkdir: cannot create directory ‘/root/.kaggle’: File exists\n"
          ]
        }
      ]
    },
    {
      "cell_type": "code",
      "source": [
        "!kaggle datasets download -d grassknoted/asl-alphabet"
      ],
      "metadata": {
        "id": "6PnW9_-AjjnD",
        "colab": {
          "base_uri": "https://localhost:8080/"
        },
        "outputId": "97508748-0a56-4784-cde0-b9e558546117"
      },
      "execution_count": null,
      "outputs": [
        {
          "output_type": "stream",
          "name": "stdout",
          "text": [
            "asl-alphabet.zip: Skipping, found more recently modified local copy (use --force to force download)\n"
          ]
        }
      ]
    },
    {
      "cell_type": "code",
      "source": [
        "!unzip asl-alphabet.zip -d asl-alphabet"
      ],
      "metadata": {
        "id": "Bly9oDQFjjkU",
        "colab": {
          "base_uri": "https://localhost:8080/"
        },
        "outputId": "5cdce945-8b53-404e-b8c4-224dff47b3b9"
      },
      "execution_count": null,
      "outputs": [
        {
          "output_type": "stream",
          "name": "stdout",
          "text": [
            "Archive:  asl-alphabet.zip\n",
            "replace asl-alphabet/asl_alphabet_test/asl_alphabet_test/A_test.jpg? [y]es, [n]o, [A]ll, [N]one, [r]ename: N\n"
          ]
        }
      ]
    },
    {
      "cell_type": "code",
      "execution_count": null,
      "metadata": {
        "id": "6JshahYwi9Qq"
      },
      "outputs": [],
      "source": [
        "# Load Data\n",
        "import os\n",
        "import cv2\n",
        "import numpy as np\n",
        "\n",
        "# Data Visualisation\n",
        "import matplotlib.pyplot as plt\n",
        "\n",
        "# Model Training\n",
        "from tensorflow.keras import utils\n",
        "from tensorflow.keras.optimizers import Adam\n",
        "from tensorflow.keras.models import Sequential\n",
        "from tensorflow.keras.layers import Dense, Dropout, Flatten, Conv2D, MaxPooling2D, BatchNormalization\n",
        "from sklearn.model_selection import train_test_split\n",
        "from tensorflow.keras.applications import VGG16\n",
        "\n",
        "# Warning\n",
        "import warnings\n",
        "warnings.filterwarnings(\"ignore\")\n",
        "\n",
        "# Main\n",
        "import os\n",
        "import glob\n",
        "import cv2\n",
        "import numpy as np\n",
        "import pandas as pd\n",
        "import gc\n",
        "import string\n",
        "import time\n",
        "import random\n",
        "from PIL import Image\n",
        "from tqdm import tqdm\n",
        "tqdm.pandas()\n",
        "\n",
        "# Visualization\n",
        "import matplotlib\n",
        "import matplotlib.pyplot as plt\n",
        "\n",
        "\n",
        "\n",
        "\n",
        "from sklearn.manifold import TSNE\n",
        "\n",
        "# Model\n",
        "from sklearn.model_selection import train_test_split\n",
        "import tensorflow as tf\n",
        "from tensorflow.keras.preprocessing.image import load_img, img_to_array, array_to_img\n",
        "from keras.preprocessing.image import ImageDataGenerator\n",
        "from tensorflow.keras.applications import ResNet50\n",
        "from tensorflow.keras.layers import Dense, Flatten, Dropout, GlobalAveragePooling2D\n",
        "from keras.models import load_model, Model\n",
        "from keras.optimizers import Adam\n",
        "from keras.callbacks import ModelCheckpoint, EarlyStopping"
      ]
    },
    {
      "cell_type": "code",
      "source": [
        "# Configuration\n",
        "class CFG:\n",
        "  batch_size = 128\n",
        "  img_height = 32\n",
        "  img_width = 32\n",
        "  epochs = 10\n",
        "  num_classes = 29\n",
        "  img_channels = 3\n",
        "\n",
        "def seed_everything(seed: int):\n",
        "  random.seed(seed)\n",
        "  os.environ[\"PYTHONHASHSEED\"] = str(seed)\n",
        "  np.random.seed(seed)\n",
        "  tf.random.set_seed(seed)"
      ],
      "metadata": {
        "id": "1LXnJiNdkI7o"
      },
      "execution_count": null,
      "outputs": []
    },
    {
      "cell_type": "code",
      "source": [
        "# Labels\n",
        "TRAIN_PATH = \"/content/asl-alphabet/asl_alphabet_train/asl_alphabet_train\"\n",
        "labels = []\n",
        "alphabet = list(string.ascii_uppercase)\n",
        "labels.extend(alphabet)\n",
        "labels.extend([\"del\", \"nothing\", \"space\"])\n",
        "print(labels)"
      ],
      "metadata": {
        "id": "oOsgJOUNkI4K",
        "colab": {
          "base_uri": "https://localhost:8080/"
        },
        "outputId": "b488323c-ca45-49d1-a7f1-0affd2c96e73"
      },
      "execution_count": null,
      "outputs": [
        {
          "output_type": "stream",
          "name": "stdout",
          "text": [
            "['A', 'B', 'C', 'D', 'E', 'F', 'G', 'H', 'I', 'J', 'K', 'L', 'M', 'N', 'O', 'P', 'Q', 'R', 'S', 'T', 'U', 'V', 'W', 'X', 'Y', 'Z', 'del', 'nothing', 'space']\n"
          ]
        }
      ]
    },
    {
      "cell_type": "code",
      "source": [
        "# Create Metadata\n",
        "list_path = []\n",
        "list_labels = []\n",
        "for label in labels:\n",
        "  label_path = os.path.join(TRAIN_PATH, label, \"*\")\n",
        "  image_files = glob.glob(label_path)\n",
        "\n",
        "  sign_label = [label] * len(image_files)\n",
        "\n",
        "  list_path.extend(image_files)\n",
        "  list_labels.extend(sign_label)\n",
        "\n",
        "metadata = pd.DataFrame({\n",
        "    \"image_path\": list_path,\n",
        "    \"label\": list_labels\n",
        "})\n",
        "\n",
        "metadata"
      ],
      "metadata": {
        "id": "s1_5dWkRkIpM",
        "colab": {
          "base_uri": "https://localhost:8080/",
          "height": 423
        },
        "outputId": "8c9f2e88-208f-4f87-c1e3-0be824b7b3c9"
      },
      "execution_count": null,
      "outputs": [
        {
          "output_type": "execute_result",
          "data": {
            "text/plain": [
              "                                              image_path  label\n",
              "0      /content/asl-alphabet/asl_alphabet_train/asl_a...      A\n",
              "1      /content/asl-alphabet/asl_alphabet_train/asl_a...      A\n",
              "2      /content/asl-alphabet/asl_alphabet_train/asl_a...      A\n",
              "3      /content/asl-alphabet/asl_alphabet_train/asl_a...      A\n",
              "4      /content/asl-alphabet/asl_alphabet_train/asl_a...      A\n",
              "...                                                  ...    ...\n",
              "86995  /content/asl-alphabet/asl_alphabet_train/asl_a...  space\n",
              "86996  /content/asl-alphabet/asl_alphabet_train/asl_a...  space\n",
              "86997  /content/asl-alphabet/asl_alphabet_train/asl_a...  space\n",
              "86998  /content/asl-alphabet/asl_alphabet_train/asl_a...  space\n",
              "86999  /content/asl-alphabet/asl_alphabet_train/asl_a...  space\n",
              "\n",
              "[87000 rows x 2 columns]"
            ],
            "text/html": [
              "\n",
              "  <div id=\"df-f2b93e9a-a19a-43f3-95ba-c47b1f701bb3\" class=\"colab-df-container\">\n",
              "    <div>\n",
              "<style scoped>\n",
              "    .dataframe tbody tr th:only-of-type {\n",
              "        vertical-align: middle;\n",
              "    }\n",
              "\n",
              "    .dataframe tbody tr th {\n",
              "        vertical-align: top;\n",
              "    }\n",
              "\n",
              "    .dataframe thead th {\n",
              "        text-align: right;\n",
              "    }\n",
              "</style>\n",
              "<table border=\"1\" class=\"dataframe\">\n",
              "  <thead>\n",
              "    <tr style=\"text-align: right;\">\n",
              "      <th></th>\n",
              "      <th>image_path</th>\n",
              "      <th>label</th>\n",
              "    </tr>\n",
              "  </thead>\n",
              "  <tbody>\n",
              "    <tr>\n",
              "      <th>0</th>\n",
              "      <td>/content/asl-alphabet/asl_alphabet_train/asl_a...</td>\n",
              "      <td>A</td>\n",
              "    </tr>\n",
              "    <tr>\n",
              "      <th>1</th>\n",
              "      <td>/content/asl-alphabet/asl_alphabet_train/asl_a...</td>\n",
              "      <td>A</td>\n",
              "    </tr>\n",
              "    <tr>\n",
              "      <th>2</th>\n",
              "      <td>/content/asl-alphabet/asl_alphabet_train/asl_a...</td>\n",
              "      <td>A</td>\n",
              "    </tr>\n",
              "    <tr>\n",
              "      <th>3</th>\n",
              "      <td>/content/asl-alphabet/asl_alphabet_train/asl_a...</td>\n",
              "      <td>A</td>\n",
              "    </tr>\n",
              "    <tr>\n",
              "      <th>4</th>\n",
              "      <td>/content/asl-alphabet/asl_alphabet_train/asl_a...</td>\n",
              "      <td>A</td>\n",
              "    </tr>\n",
              "    <tr>\n",
              "      <th>...</th>\n",
              "      <td>...</td>\n",
              "      <td>...</td>\n",
              "    </tr>\n",
              "    <tr>\n",
              "      <th>86995</th>\n",
              "      <td>/content/asl-alphabet/asl_alphabet_train/asl_a...</td>\n",
              "      <td>space</td>\n",
              "    </tr>\n",
              "    <tr>\n",
              "      <th>86996</th>\n",
              "      <td>/content/asl-alphabet/asl_alphabet_train/asl_a...</td>\n",
              "      <td>space</td>\n",
              "    </tr>\n",
              "    <tr>\n",
              "      <th>86997</th>\n",
              "      <td>/content/asl-alphabet/asl_alphabet_train/asl_a...</td>\n",
              "      <td>space</td>\n",
              "    </tr>\n",
              "    <tr>\n",
              "      <th>86998</th>\n",
              "      <td>/content/asl-alphabet/asl_alphabet_train/asl_a...</td>\n",
              "      <td>space</td>\n",
              "    </tr>\n",
              "    <tr>\n",
              "      <th>86999</th>\n",
              "      <td>/content/asl-alphabet/asl_alphabet_train/asl_a...</td>\n",
              "      <td>space</td>\n",
              "    </tr>\n",
              "  </tbody>\n",
              "</table>\n",
              "<p>87000 rows × 2 columns</p>\n",
              "</div>\n",
              "    <div class=\"colab-df-buttons\">\n",
              "\n",
              "  <div class=\"colab-df-container\">\n",
              "    <button class=\"colab-df-convert\" onclick=\"convertToInteractive('df-f2b93e9a-a19a-43f3-95ba-c47b1f701bb3')\"\n",
              "            title=\"Convert this dataframe to an interactive table.\"\n",
              "            style=\"display:none;\">\n",
              "\n",
              "  <svg xmlns=\"http://www.w3.org/2000/svg\" height=\"24px\" viewBox=\"0 -960 960 960\">\n",
              "    <path d=\"M120-120v-720h720v720H120Zm60-500h600v-160H180v160Zm220 220h160v-160H400v160Zm0 220h160v-160H400v160ZM180-400h160v-160H180v160Zm440 0h160v-160H620v160ZM180-180h160v-160H180v160Zm440 0h160v-160H620v160Z\"/>\n",
              "  </svg>\n",
              "    </button>\n",
              "\n",
              "  <style>\n",
              "    .colab-df-container {\n",
              "      display:flex;\n",
              "      gap: 12px;\n",
              "    }\n",
              "\n",
              "    .colab-df-convert {\n",
              "      background-color: #E8F0FE;\n",
              "      border: none;\n",
              "      border-radius: 50%;\n",
              "      cursor: pointer;\n",
              "      display: none;\n",
              "      fill: #1967D2;\n",
              "      height: 32px;\n",
              "      padding: 0 0 0 0;\n",
              "      width: 32px;\n",
              "    }\n",
              "\n",
              "    .colab-df-convert:hover {\n",
              "      background-color: #E2EBFA;\n",
              "      box-shadow: 0px 1px 2px rgba(60, 64, 67, 0.3), 0px 1px 3px 1px rgba(60, 64, 67, 0.15);\n",
              "      fill: #174EA6;\n",
              "    }\n",
              "\n",
              "    .colab-df-buttons div {\n",
              "      margin-bottom: 4px;\n",
              "    }\n",
              "\n",
              "    [theme=dark] .colab-df-convert {\n",
              "      background-color: #3B4455;\n",
              "      fill: #D2E3FC;\n",
              "    }\n",
              "\n",
              "    [theme=dark] .colab-df-convert:hover {\n",
              "      background-color: #434B5C;\n",
              "      box-shadow: 0px 1px 3px 1px rgba(0, 0, 0, 0.15);\n",
              "      filter: drop-shadow(0px 1px 2px rgba(0, 0, 0, 0.3));\n",
              "      fill: #FFFFFF;\n",
              "    }\n",
              "  </style>\n",
              "\n",
              "    <script>\n",
              "      const buttonEl =\n",
              "        document.querySelector('#df-f2b93e9a-a19a-43f3-95ba-c47b1f701bb3 button.colab-df-convert');\n",
              "      buttonEl.style.display =\n",
              "        google.colab.kernel.accessAllowed ? 'block' : 'none';\n",
              "\n",
              "      async function convertToInteractive(key) {\n",
              "        const element = document.querySelector('#df-f2b93e9a-a19a-43f3-95ba-c47b1f701bb3');\n",
              "        const dataTable =\n",
              "          await google.colab.kernel.invokeFunction('convertToInteractive',\n",
              "                                                    [key], {});\n",
              "        if (!dataTable) return;\n",
              "\n",
              "        const docLinkHtml = 'Like what you see? Visit the ' +\n",
              "          '<a target=\"_blank\" href=https://colab.research.google.com/notebooks/data_table.ipynb>data table notebook</a>'\n",
              "          + ' to learn more about interactive tables.';\n",
              "        element.innerHTML = '';\n",
              "        dataTable['output_type'] = 'display_data';\n",
              "        await google.colab.output.renderOutput(dataTable, element);\n",
              "        const docLink = document.createElement('div');\n",
              "        docLink.innerHTML = docLinkHtml;\n",
              "        element.appendChild(docLink);\n",
              "      }\n",
              "    </script>\n",
              "  </div>\n",
              "\n",
              "\n",
              "<div id=\"df-1300d0c1-a504-4cfc-81da-52f9ebbbc25f\">\n",
              "  <button class=\"colab-df-quickchart\" onclick=\"quickchart('df-1300d0c1-a504-4cfc-81da-52f9ebbbc25f')\"\n",
              "            title=\"Suggest charts\"\n",
              "            style=\"display:none;\">\n",
              "\n",
              "<svg xmlns=\"http://www.w3.org/2000/svg\" height=\"24px\"viewBox=\"0 0 24 24\"\n",
              "     width=\"24px\">\n",
              "    <g>\n",
              "        <path d=\"M19 3H5c-1.1 0-2 .9-2 2v14c0 1.1.9 2 2 2h14c1.1 0 2-.9 2-2V5c0-1.1-.9-2-2-2zM9 17H7v-7h2v7zm4 0h-2V7h2v10zm4 0h-2v-4h2v4z\"/>\n",
              "    </g>\n",
              "</svg>\n",
              "  </button>\n",
              "\n",
              "<style>\n",
              "  .colab-df-quickchart {\n",
              "      --bg-color: #E8F0FE;\n",
              "      --fill-color: #1967D2;\n",
              "      --hover-bg-color: #E2EBFA;\n",
              "      --hover-fill-color: #174EA6;\n",
              "      --disabled-fill-color: #AAA;\n",
              "      --disabled-bg-color: #DDD;\n",
              "  }\n",
              "\n",
              "  [theme=dark] .colab-df-quickchart {\n",
              "      --bg-color: #3B4455;\n",
              "      --fill-color: #D2E3FC;\n",
              "      --hover-bg-color: #434B5C;\n",
              "      --hover-fill-color: #FFFFFF;\n",
              "      --disabled-bg-color: #3B4455;\n",
              "      --disabled-fill-color: #666;\n",
              "  }\n",
              "\n",
              "  .colab-df-quickchart {\n",
              "    background-color: var(--bg-color);\n",
              "    border: none;\n",
              "    border-radius: 50%;\n",
              "    cursor: pointer;\n",
              "    display: none;\n",
              "    fill: var(--fill-color);\n",
              "    height: 32px;\n",
              "    padding: 0;\n",
              "    width: 32px;\n",
              "  }\n",
              "\n",
              "  .colab-df-quickchart:hover {\n",
              "    background-color: var(--hover-bg-color);\n",
              "    box-shadow: 0 1px 2px rgba(60, 64, 67, 0.3), 0 1px 3px 1px rgba(60, 64, 67, 0.15);\n",
              "    fill: var(--button-hover-fill-color);\n",
              "  }\n",
              "\n",
              "  .colab-df-quickchart-complete:disabled,\n",
              "  .colab-df-quickchart-complete:disabled:hover {\n",
              "    background-color: var(--disabled-bg-color);\n",
              "    fill: var(--disabled-fill-color);\n",
              "    box-shadow: none;\n",
              "  }\n",
              "\n",
              "  .colab-df-spinner {\n",
              "    border: 2px solid var(--fill-color);\n",
              "    border-color: transparent;\n",
              "    border-bottom-color: var(--fill-color);\n",
              "    animation:\n",
              "      spin 1s steps(1) infinite;\n",
              "  }\n",
              "\n",
              "  @keyframes spin {\n",
              "    0% {\n",
              "      border-color: transparent;\n",
              "      border-bottom-color: var(--fill-color);\n",
              "      border-left-color: var(--fill-color);\n",
              "    }\n",
              "    20% {\n",
              "      border-color: transparent;\n",
              "      border-left-color: var(--fill-color);\n",
              "      border-top-color: var(--fill-color);\n",
              "    }\n",
              "    30% {\n",
              "      border-color: transparent;\n",
              "      border-left-color: var(--fill-color);\n",
              "      border-top-color: var(--fill-color);\n",
              "      border-right-color: var(--fill-color);\n",
              "    }\n",
              "    40% {\n",
              "      border-color: transparent;\n",
              "      border-right-color: var(--fill-color);\n",
              "      border-top-color: var(--fill-color);\n",
              "    }\n",
              "    60% {\n",
              "      border-color: transparent;\n",
              "      border-right-color: var(--fill-color);\n",
              "    }\n",
              "    80% {\n",
              "      border-color: transparent;\n",
              "      border-right-color: var(--fill-color);\n",
              "      border-bottom-color: var(--fill-color);\n",
              "    }\n",
              "    90% {\n",
              "      border-color: transparent;\n",
              "      border-bottom-color: var(--fill-color);\n",
              "    }\n",
              "  }\n",
              "</style>\n",
              "\n",
              "  <script>\n",
              "    async function quickchart(key) {\n",
              "      const quickchartButtonEl =\n",
              "        document.querySelector('#' + key + ' button');\n",
              "      quickchartButtonEl.disabled = true;  // To prevent multiple clicks.\n",
              "      quickchartButtonEl.classList.add('colab-df-spinner');\n",
              "      try {\n",
              "        const charts = await google.colab.kernel.invokeFunction(\n",
              "            'suggestCharts', [key], {});\n",
              "      } catch (error) {\n",
              "        console.error('Error during call to suggestCharts:', error);\n",
              "      }\n",
              "      quickchartButtonEl.classList.remove('colab-df-spinner');\n",
              "      quickchartButtonEl.classList.add('colab-df-quickchart-complete');\n",
              "    }\n",
              "    (() => {\n",
              "      let quickchartButtonEl =\n",
              "        document.querySelector('#df-1300d0c1-a504-4cfc-81da-52f9ebbbc25f button');\n",
              "      quickchartButtonEl.style.display =\n",
              "        google.colab.kernel.accessAllowed ? 'block' : 'none';\n",
              "    })();\n",
              "  </script>\n",
              "</div>\n",
              "    </div>\n",
              "  </div>\n"
            ]
          },
          "metadata": {},
          "execution_count": 79
        }
      ]
    },
    {
      "cell_type": "code",
      "source": [
        "# Split the data into train and test sets\n",
        "X_train, X_test, y_train, y_test = train_test_split(\n",
        "    metadata['image_path'],\n",
        "    metadata['label'],\n",
        "    test_size=0.2,\n",
        "    random_state=2253,\n",
        "    shuffle=True,\n",
        "    stratify=metadata['label']\n",
        ")\n",
        "\n",
        "# Create a DataFrame for the training set test set\n",
        "data_train = pd.DataFrame({\n",
        "    'image_path': X_train,\n",
        "    'label': y_train\n",
        "})\n",
        "\n",
        "data_test = pd.DataFrame({\n",
        "    'image_path': X_test,\n",
        "    'label': y_test\n",
        "})\n",
        "\n",
        "# Split the training set into training and validation sets\n",
        "X_train, X_val, y_train, y_val = train_test_split(\n",
        "    data_train['image_path'],\n",
        "    data_train['label'],\n",
        "    test_size=0.2/0.7,  # Assuming you want 20% for validation out of the training set\n",
        "    random_state=2253,\n",
        "    shuffle=True,\n",
        "    stratify=data_train['label']\n",
        ")\n",
        "\n",
        "# Create a DataFrame for the validation set\n",
        "data_val = pd.DataFrame({\n",
        "    'image_path': X_val,\n",
        "    'label': y_val\n",
        "})"
      ],
      "metadata": {
        "id": "a6oIpKS_uUcZ"
      },
      "execution_count": null,
      "outputs": []
    },
    {
      "cell_type": "code",
      "source": [
        "def data_augmentation():\n",
        "    datagen = ImageDataGenerator(\n",
        "        rescale=1/255.,\n",
        "        # Add other augmentation parameters as needed\n",
        "        rotation_range=20,\n",
        "        width_shift_range=0.2,\n",
        "        height_shift_range=0.2,\n",
        "        shear_range=0.2,\n",
        "        zoom_range=0.2,\n",
        "        horizontal_flip=True,\n",
        "        fill_mode='nearest'\n",
        "    )\n",
        "\n",
        "    train_generator = datagen.flow_from_dataframe(\n",
        "        data_train,\n",
        "        directory='./',\n",
        "        x_col='image_path',\n",
        "        y_col='label',\n",
        "        class_mode='categorical',\n",
        "        batch_size=CFG.batch_size,\n",
        "        target_size=(CFG.img_height, CFG.img_width)\n",
        "    )\n",
        "\n",
        "    validation_generator = datagen.flow_from_dataframe(\n",
        "        data_val,\n",
        "        directory='./',\n",
        "        x_col='image_path',\n",
        "        y_col='label',\n",
        "        class_mode='categorical',\n",
        "        batch_size=CFG.batch_size,\n",
        "        target_size=(CFG.img_height, CFG.img_width)\n",
        "    )\n",
        "\n",
        "    test_generator = datagen.flow_from_dataframe(\n",
        "        data_test,  # Assuming you have a DataFrame for test data\n",
        "        directory='./',\n",
        "        x_col='image_path',\n",
        "        y_col='label',\n",
        "        class_mode='categorical',\n",
        "        batch_size=CFG.batch_size,\n",
        "        target_size=(CFG.img_height, CFG.img_width),\n",
        "        shuffle=False  # Set to False for test data\n",
        "    )\n",
        "\n",
        "    return train_generator, validation_generator, test_generator\n",
        "\n",
        "# Seed for reproducibility\n",
        "seed_everything(2253)\n",
        "\n",
        "# Get the generators\n",
        "train_generator, validation_generator, test_generator = data_augmentation()"
      ],
      "metadata": {
        "id": "PzKshGBxqguD",
        "colab": {
          "base_uri": "https://localhost:8080/"
        },
        "outputId": "3ee2152b-11de-4d96-9c7d-64d597be9884"
      },
      "execution_count": null,
      "outputs": [
        {
          "output_type": "stream",
          "name": "stdout",
          "text": [
            "Found 69600 validated image filenames belonging to 29 classes.\n",
            "Found 19886 validated image filenames belonging to 29 classes.\n",
            "Found 17400 validated image filenames belonging to 29 classes.\n"
          ]
        }
      ]
    },
    {
      "cell_type": "code",
      "source": [
        "# Define input shape\n",
        "input_shape = (32, 32, 3)\n",
        "\n",
        "# Load the VGG16 model without the top (classification) layers\n",
        "base_model = VGG16(weights='imagenet', include_top=False, input_shape=input_shape)\n",
        "\n",
        "# Add your custom classification layers on top of the base model\n",
        "x = GlobalAveragePooling2D()(base_model.output)\n",
        "x = Dense(128, activation='relu')(x)  # You can adjust the number of units as needed\n",
        "predictions = Dense(29, activation='softmax')(x)  # num_classes is the number of classes in your dataset\n",
        "\n",
        "# Create the final model\n",
        "model = Model(inputs=base_model.input, outputs=predictions)\n",
        "\n",
        "# Summarize the model architecture\n",
        "model.summary()\n"
      ],
      "metadata": {
        "id": "mKsF-dWKtH8J",
        "colab": {
          "base_uri": "https://localhost:8080/"
        },
        "outputId": "e2b48926-52a1-40dd-bb06-eff8187f4101"
      },
      "execution_count": null,
      "outputs": [
        {
          "output_type": "stream",
          "name": "stdout",
          "text": [
            "Model: \"model_2\"\n",
            "_________________________________________________________________\n",
            " Layer (type)                Output Shape              Param #   \n",
            "=================================================================\n",
            " input_3 (InputLayer)        [(None, 32, 32, 3)]       0         \n",
            "                                                                 \n",
            " block1_conv1 (Conv2D)       (None, 32, 32, 64)        1792      \n",
            "                                                                 \n",
            " block1_conv2 (Conv2D)       (None, 32, 32, 64)        36928     \n",
            "                                                                 \n",
            " block1_pool (MaxPooling2D)  (None, 16, 16, 64)        0         \n",
            "                                                                 \n",
            " block2_conv1 (Conv2D)       (None, 16, 16, 128)       73856     \n",
            "                                                                 \n",
            " block2_conv2 (Conv2D)       (None, 16, 16, 128)       147584    \n",
            "                                                                 \n",
            " block2_pool (MaxPooling2D)  (None, 8, 8, 128)         0         \n",
            "                                                                 \n",
            " block3_conv1 (Conv2D)       (None, 8, 8, 256)         295168    \n",
            "                                                                 \n",
            " block3_conv2 (Conv2D)       (None, 8, 8, 256)         590080    \n",
            "                                                                 \n",
            " block3_conv3 (Conv2D)       (None, 8, 8, 256)         590080    \n",
            "                                                                 \n",
            " block3_pool (MaxPooling2D)  (None, 4, 4, 256)         0         \n",
            "                                                                 \n",
            " block4_conv1 (Conv2D)       (None, 4, 4, 512)         1180160   \n",
            "                                                                 \n",
            " block4_conv2 (Conv2D)       (None, 4, 4, 512)         2359808   \n",
            "                                                                 \n",
            " block4_conv3 (Conv2D)       (None, 4, 4, 512)         2359808   \n",
            "                                                                 \n",
            " block4_pool (MaxPooling2D)  (None, 2, 2, 512)         0         \n",
            "                                                                 \n",
            " block5_conv1 (Conv2D)       (None, 2, 2, 512)         2359808   \n",
            "                                                                 \n",
            " block5_conv2 (Conv2D)       (None, 2, 2, 512)         2359808   \n",
            "                                                                 \n",
            " block5_conv3 (Conv2D)       (None, 2, 2, 512)         2359808   \n",
            "                                                                 \n",
            " block5_pool (MaxPooling2D)  (None, 1, 1, 512)         0         \n",
            "                                                                 \n",
            " global_average_pooling2d_2  (None, 512)               0         \n",
            "  (GlobalAveragePooling2D)                                       \n",
            "                                                                 \n",
            " dense_4 (Dense)             (None, 128)               65664     \n",
            "                                                                 \n",
            " dense_5 (Dense)             (None, 29)                3741      \n",
            "                                                                 \n",
            "=================================================================\n",
            "Total params: 14784093 (56.40 MB)\n",
            "Trainable params: 14784093 (56.40 MB)\n",
            "Non-trainable params: 0 (0.00 Byte)\n",
            "_________________________________________________________________\n"
          ]
        }
      ]
    },
    {
      "cell_type": "code",
      "source": [
        "# Compile the model\n",
        "model.compile(optimizer=Adam(lr=0.0001), loss='categorical_crossentropy', metrics=['accuracy'])\n",
        "\n",
        "# Create a ModelCheckpoint callback\n",
        "checkpoint_callback = ModelCheckpoint(\n",
        "    filepath='/content/sample_data/best_model_weights.h5',\n",
        "    monitor='val_accuracy',\n",
        "    save_best_only=True,\n",
        "    mode='max',\n",
        "    verbose=1\n",
        ")\n",
        "history = model.fit(\n",
        "    train_generator,\n",
        "    steps_per_epoch=train_generator.samples // CFG.batch_size,\n",
        "    epochs= CFG.epochs,\n",
        "    validation_data=validation_generator,\n",
        "    validation_steps=validation_generator.samples // CFG.batch_size,\n",
        "    callbacks=[checkpoint_callback],\n",
        "    shuffle=True,\n",
        "    verbose=1\n",
        ")"
      ],
      "metadata": {
        "id": "J-CRPHTptHzt",
        "colab": {
          "base_uri": "https://localhost:8080/"
        },
        "outputId": "f3cd7880-0f40-44d3-da7d-2e97a3f1389f"
      },
      "execution_count": null,
      "outputs": [
        {
          "metadata": {
            "tags": null
          },
          "name": "stderr",
          "output_type": "stream",
          "text": [
            "WARNING:absl:`lr` is deprecated in Keras optimizer, please use `learning_rate` or use the legacy optimizer, e.g.,tf.keras.optimizers.legacy.Adam.\n"
          ]
        },
        {
          "output_type": "stream",
          "name": "stdout",
          "text": [
            "Epoch 1/10\n",
            "543/543 [==============================] - ETA: 0s - loss: 2.6944 - accuracy: 0.1646\n",
            "Epoch 1: val_accuracy improved from -inf to 0.32510, saving model to /content/sample_data/best_model_weights.h5\n",
            "543/543 [==============================] - 150s 267ms/step - loss: 2.6944 - accuracy: 0.1646 - val_loss: 2.0153 - val_accuracy: 0.3251\n",
            "Epoch 2/10\n",
            "543/543 [==============================] - ETA: 0s - loss: 1.2996 - accuracy: 0.5487\n",
            "Epoch 2: val_accuracy improved from 0.32510 to 0.72596, saving model to /content/sample_data/best_model_weights.h5\n",
            "543/543 [==============================] - 128s 236ms/step - loss: 1.2996 - accuracy: 0.5487 - val_loss: 0.7726 - val_accuracy: 0.7260\n",
            "Epoch 3/10\n",
            "543/543 [==============================] - ETA: 0s - loss: 0.6387 - accuracy: 0.7824\n",
            "Epoch 3: val_accuracy improved from 0.72596 to 0.82203, saving model to /content/sample_data/best_model_weights.h5\n",
            "543/543 [==============================] - 126s 232ms/step - loss: 0.6387 - accuracy: 0.7824 - val_loss: 0.5470 - val_accuracy: 0.8220\n",
            "Epoch 4/10\n",
            "543/543 [==============================] - ETA: 0s - loss: 0.4616 - accuracy: 0.8529\n",
            "Epoch 4: val_accuracy improved from 0.82203 to 0.87409, saving model to /content/sample_data/best_model_weights.h5\n",
            "543/543 [==============================] - 145s 267ms/step - loss: 0.4616 - accuracy: 0.8529 - val_loss: 0.3829 - val_accuracy: 0.8741\n",
            "Epoch 5/10\n",
            "543/543 [==============================] - ETA: 0s - loss: 0.3289 - accuracy: 0.8966\n",
            "Epoch 5: val_accuracy improved from 0.87409 to 0.89940, saving model to /content/sample_data/best_model_weights.h5\n",
            "543/543 [==============================] - 143s 264ms/step - loss: 0.3289 - accuracy: 0.8966 - val_loss: 0.3169 - val_accuracy: 0.8994\n",
            "Epoch 6/10\n",
            "543/543 [==============================] - ETA: 0s - loss: 0.2637 - accuracy: 0.9203\n",
            "Epoch 6: val_accuracy improved from 0.89940 to 0.92530, saving model to /content/sample_data/best_model_weights.h5\n",
            "543/543 [==============================] - 128s 236ms/step - loss: 0.2637 - accuracy: 0.9203 - val_loss: 0.2385 - val_accuracy: 0.9253\n",
            "Epoch 7/10\n",
            "543/543 [==============================] - ETA: 0s - loss: 0.2458 - accuracy: 0.9276\n",
            "Epoch 7: val_accuracy improved from 0.92530 to 0.93896, saving model to /content/sample_data/best_model_weights.h5\n",
            "543/543 [==============================] - 126s 232ms/step - loss: 0.2458 - accuracy: 0.9276 - val_loss: 0.2059 - val_accuracy: 0.9390\n",
            "Epoch 8/10\n",
            "543/543 [==============================] - ETA: 0s - loss: 0.2194 - accuracy: 0.9369\n",
            "Epoch 8: val_accuracy did not improve from 0.93896\n",
            "543/543 [==============================] - 143s 263ms/step - loss: 0.2194 - accuracy: 0.9369 - val_loss: 0.2725 - val_accuracy: 0.9279\n",
            "Epoch 9/10\n",
            "543/543 [==============================] - ETA: 0s - loss: 0.2209 - accuracy: 0.9395\n",
            "Epoch 9: val_accuracy did not improve from 0.93896\n",
            "543/543 [==============================] - 138s 254ms/step - loss: 0.2209 - accuracy: 0.9395 - val_loss: 0.2287 - val_accuracy: 0.9385\n",
            "Epoch 10/10\n",
            "543/543 [==============================] - ETA: 0s - loss: 0.2064 - accuracy: 0.9436\n",
            "Epoch 10: val_accuracy improved from 0.93896 to 0.95323, saving model to /content/sample_data/best_model_weights.h5\n",
            "543/543 [==============================] - 136s 251ms/step - loss: 0.2064 - accuracy: 0.9436 - val_loss: 0.1727 - val_accuracy: 0.9532\n"
          ]
        }
      ]
    },
    {
      "cell_type": "code",
      "source": [
        "scores = model.evaluate(test_generator)\n",
        "print(\"%s: %2f%%\" % (\"Evaluate Test Accuracy\", scores[1]*100))"
      ],
      "metadata": {
        "id": "8L_iZx2PkIlz",
        "colab": {
          "base_uri": "https://localhost:8080/"
        },
        "outputId": "22283bfe-75d5-42ef-ec21-76d575ec3d01"
      },
      "execution_count": null,
      "outputs": [
        {
          "output_type": "stream",
          "name": "stdout",
          "text": [
            "136/136 [==============================] - 22s 162ms/step - loss: 0.1752 - accuracy: 0.9532\n",
            "Evaluate Test Accuracy: 95.321840%\n"
          ]
        }
      ]
    },
    {
      "cell_type": "code",
      "source": [
        "# Confusion Matrix\n",
        "fine_tuned_model = load_model(\"/content/sample_data/best_model_weights.h5\")\n",
        "predictions = fine_tuned_model.predict(test_generator)\n",
        "\n",
        "# Get the true labels from the generator\n",
        "true_labels = test_generator.classes\n",
        "\n",
        "# Compute the confusion matrix using tf.math.confusion_matrix\n",
        "confusion_matrix = tf.math.confusion_matrix(\n",
        "    labels = true_labels,\n",
        "    predictions = predictions.argmax(axis=1),\n",
        "    num_classes = 29\n",
        ")"
      ],
      "metadata": {
        "id": "Nvk1zoggkIgy"
      },
      "execution_count": null,
      "outputs": []
    },
    {
      "cell_type": "code",
      "source": [
        "# Load the saved model\n",
        "model = tf.keras.models.load_model('/content/sample_data/best_model_weights.h5')"
      ],
      "metadata": {
        "id": "tmz-mFv1kIUi"
      },
      "execution_count": null,
      "outputs": []
    },
    {
      "cell_type": "code",
      "source": [
        "# Testing with an image\n",
        "image_path = '/content/asl-alphabet/asl_alphabet_train/asl_alphabet_train/Y/Y10.jpg'\n",
        "img = cv2.imread(image_path)\n",
        "img = cv2.cvtColor(img, cv2.COLOR_BGR2RGB)\n",
        "img = cv2.resize(img,(32,32))\n",
        "\n",
        "img = tf.keras.applications.mobilenet_v2.preprocess_input(img)\n",
        "\n",
        "# Predict the class of the image\n",
        "predictions = model.predict(np.array([img]))\n",
        "\n",
        "# Get the class with the highest probability\n",
        "predicted_class = labels[np.argmax(predictions)]\n",
        "\n",
        "print(f\"The image is predicted to belong to class: {predicted_class}\")"
      ],
      "metadata": {
        "id": "-nTT1jyGkIRu",
        "colab": {
          "base_uri": "https://localhost:8080/"
        },
        "outputId": "40c6fb9d-ef0a-422f-854e-5323a59ce956"
      },
      "execution_count": null,
      "outputs": [
        {
          "output_type": "stream",
          "name": "stdout",
          "text": [
            "1/1 [==============================] - 0s 19ms/step\n",
            "The image is predicted to belong to class: B\n"
          ]
        }
      ]
    }
  ]
}